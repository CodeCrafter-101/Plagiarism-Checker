{
  "nbformat": 4,
  "nbformat_minor": 0,
  "metadata": {
    "colab": {
      "provenance": [],
      "authorship_tag": "ABX9TyO5hYv1CvIT75YBJ7aJ3Sf1",
      "include_colab_link": true
    },
    "kernelspec": {
      "name": "python3",
      "display_name": "Python 3"
    },
    "language_info": {
      "name": "python"
    }
  },
  "cells": [
    {
      "cell_type": "markdown",
      "metadata": {
        "id": "view-in-github",
        "colab_type": "text"
      },
      "source": [
        "<a href=\"https://colab.research.google.com/github/CodeCrafter-101/Plagiarism-Checker/blob/main/Plagiarism_Checker.ipynb\" target=\"_parent\"><img src=\"https://colab.research.google.com/assets/colab-badge.svg\" alt=\"Open In Colab\"/></a>"
      ]
    },
    {
      "cell_type": "markdown",
      "source": [
        "# Plagiarism-Checker\n",
        "Definition\n",
        "- Plagiarism Checker is a Python-based tool used to compare two or more textual documents and determine how similar they are. It helps detect potential cases of plagiarism by calculating the cosine similarity between documents using Natural Language Processing (NLP) techniques.\n",
        "- It can be used by students, educators, and writers to compare documents and identify potential plagiarism by analyzing textual overlaps and computing similarity scores.\n"
      ],
      "metadata": {
        "id": "mlDxz2UjvQTS"
      }
    },
    {
      "cell_type": "code",
      "source": [
        "# 📚 Plagiarism Checker using TF-IDF & Cosine Similarity\n",
        "# Import necessary modules!\n",
        "\n",
        "import os\n",
        "from sklearn.feature_extraction.text import TfidfVectorizer\n",
        "from sklearn.metrics.pairwise import cosine_similarity"
      ],
      "metadata": {
        "id": "_tmpSilSvTI1"
      },
      "execution_count": 12,
      "outputs": []
    },
    {
      "cell_type": "code",
      "source": [
        "# Get all .txt files in the current directory\n",
        "def get_text_files():\n",
        "    return [doc for doc in os.listdir() if doc.endswith('.txt')]"
      ],
      "metadata": {
        "id": "eDGQVQQovysq"
      },
      "execution_count": 13,
      "outputs": []
    },
    {
      "cell_type": "code",
      "source": [
        "# Read the content of each file\n",
        "def read_files(file_list):\n",
        "    return [open(file, encoding='utf-8').read() for file in file_list]"
      ],
      "metadata": {
        "id": "VZEAqM1rv-vK"
      },
      "execution_count": 14,
      "outputs": []
    },
    {
      "cell_type": "code",
      "source": [
        "# Vectorize using TF-IDF\n",
        "def vectorize(texts):\n",
        "    return TfidfVectorizer().fit_transform(texts).toarray()"
      ],
      "metadata": {
        "id": "QYJW_sdIwFMY"
      },
      "execution_count": 15,
      "outputs": []
    },
    {
      "cell_type": "code",
      "source": [
        "#  Calculate cosine similarity\n",
        "def similarity_score(vec1, vec2):\n",
        "    return cosine_similarity([vec1], [vec2])[0][0]"
      ],
      "metadata": {
        "id": "i1KjLWlfwJox"
      },
      "execution_count": 16,
      "outputs": []
    },
    {
      "cell_type": "code",
      "source": [
        "# Check for plagiarism across all file combinations\n",
        "def check_plagiarism(files, vectors):\n",
        "    results = set()\n",
        "    for i in range(len(files)):\n",
        "        for j in range(i + 1, len(files)):\n",
        "            file_a, file_b = files[i], files[j]\n",
        "            sim = similarity_score(vectors[i], vectors[j])\n",
        "            results.add((file_a, file_b, round(sim * 100, 2)))\n",
        "    return results"
      ],
      "metadata": {
        "id": "FkPQmIXUwPMx"
      },
      "execution_count": 17,
      "outputs": []
    },
    {
      "cell_type": "code",
      "source": [
        "# Main runner\n",
        "if __name__ == \"__main__\":\n",
        "    student_files = get_text_files()\n",
        "\n",
        "    if len(student_files) < 2:\n",
        "        print(\"❌ Not enough text files to compare. Add at least two `.txt` files.\")\n",
        "    else:\n",
        "        student_notes = read_files(student_files)\n",
        "        vectors = vectorize(student_notes)\n",
        "\n",
        "        print(\"\\n📊 Plagiarism Results:\")\n",
        "        print(\"=\" * 40)\n",
        "        results = check_plagiarism(student_files, vectors)\n",
        "\n",
        "        for file1, file2, score in sorted(results, key=lambda x: -x[2]):\n",
        "            print(f\"🔍 {file1} ⟷ {file2} → Similarity: {score}%\")\n"
      ],
      "metadata": {
        "colab": {
          "base_uri": "https://localhost:8080/"
        },
        "id": "p7hq7c1qwVFn",
        "outputId": "fd27a2d6-e9ef-4c24-fb9b-22acfecd3549"
      },
      "execution_count": 18,
      "outputs": [
        {
          "output_type": "stream",
          "name": "stdout",
          "text": [
            "\n",
            "📊 Plagiarism Results:\n",
            "========================================\n",
            "🔍 doc2.txt ⟷ doc1.txt → Similarity: 45.52%\n"
          ]
        }
      ]
    }
  ]
}